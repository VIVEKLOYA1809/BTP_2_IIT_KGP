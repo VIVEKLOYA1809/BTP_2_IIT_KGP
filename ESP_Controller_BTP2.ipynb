{
 "cells": [
  {
   "cell_type": "code",
   "execution_count": 1,
   "id": "ccb03e35",
   "metadata": {},
   "outputs": [],
   "source": [
    "import math\n",
    "import random\n",
    "\n",
    "import gym\n",
    "import numpy as np\n",
    "\n",
    "import torch\n",
    "import torch.nn as nn\n",
    "import torch.optim as optim\n",
    "import torch.nn.functional as F\n",
    "from torch.distributions import Normal"
   ]
  },
  {
   "cell_type": "code",
   "execution_count": 2,
   "id": "d4cf3135",
   "metadata": {},
   "outputs": [],
   "source": [
    "import numpy as np\n",
    "import pandas as pd\n",
    "import matplotlib.pyplot as plt\n",
    "from scipy import optimize, special\n",
    "\n",
    "F = np.array([[0.4450, -0.0458],\n",
    "              [1.2939, 1.1090]])\n",
    "\n",
    "G = np.array([[0.0550],\n",
    "              [4.5607]])\n",
    "\n",
    "C = np.array([[0,1]])\n",
    "\n",
    "D = 0\n",
    "Gain = np.array([0.282596525892442, 0.0960296182488122])\n",
    "\n",
    "L = np.array([[-0.039],\n",
    "              [0.4339]])\n",
    "safex = [1,2]"
   ]
  },
  {
   "cell_type": "code",
   "execution_count": 3,
   "id": "e2b38f67",
   "metadata": {},
   "outputs": [],
   "source": [
    "def calculate_FFG(C, G, Gain, F):\n",
    "    # Element-wise multiplication of G and Gain\n",
    "    G_Gain = G * Gain\n",
    "    \n",
    "    # Add eye(2) to G_Gain\n",
    "    G_Gain_eye = G_Gain + np.eye(2)\n",
    "    \n",
    "    # Calculate the inverse of (G_Gain_eye - F)\n",
    "    inv_G_Gain_eye_F = np.linalg.inv(G_Gain_eye - F)\n",
    "    \n",
    "    # Calculate C times the inverse\n",
    "    C_inv_G_Gain_eye_F = C.dot(inv_G_Gain_eye_F)\n",
    "    \n",
    "    # Calculate FFG\n",
    "    FFG = 1 / (C_inv_G_Gain_eye_F.dot(G))\n",
    "    \n",
    "    return FFG"
   ]
  },
  {
   "cell_type": "code",
   "execution_count": 4,
   "id": "045d7eb1",
   "metadata": {},
   "outputs": [],
   "source": [
    "k=3000\n",
    "input_len=k\n",
    "X = np.zeros((2, input_len + 1))\n",
    "Xe = np.zeros((2, input_len + 1))\n",
    "e = np.zeros((2, input_len))\n",
    "U = np.zeros((1,input_len))\n",
    "Y = np.zeros((1,input_len))\n",
    "r = np.zeros((1,input_len))\n",
    "z = np.zeros((1,input_len))\n",
    "S = np.zeros((input_len))\n",
    "n1 = np.random.normal(0,0.001,[1,input_len])      \n",
    "n2 = np.random.normal(0,0.0001,[2,input_len])"
   ]
  },
  {
   "cell_type": "code",
   "execution_count": 5,
   "id": "9f8a02a3",
   "metadata": {},
   "outputs": [],
   "source": [
    "FFG = calculate_FFG(C, G, Gain, F)\n",
    "Ref=1.8\n",
    "X[:,0] = [0.5,0.5]\n",
    "Xe[:,0] = [0.5,0.5]\n",
    "for i in range(input_len):\n",
    "    e[:, i] = X[:, i] - Xe[:, i]\n",
    "    U[:,i] = -(Gain @ Xe[:, i])+FFG*Ref\n",
    "    X[:, i+1] = F @ X[:, i] + G @ U[:, i] + n2[:, i]\n",
    "    Y[:,i] = C @ X[:, i] + n1[:,i]\n",
    "    r[:,i] = Y[:,i] - C @ Xe[:, i]\n",
    "    Xe[:, i+1] = F @ Xe[:, i] + G @ U[:,i] + L @ r[:,i]\n",
    "covn_r=np.cov(r)"
   ]
  },
  {
   "cell_type": "code",
   "execution_count": 6,
   "id": "5c3b73ee",
   "metadata": {},
   "outputs": [
    {
     "data": {
      "text/plain": [
       "array([[0.07222142]])"
      ]
     },
     "execution_count": 6,
     "metadata": {},
     "output_type": "execute_result"
    }
   ],
   "source": [
    "FFG"
   ]
  },
  {
   "cell_type": "code",
   "execution_count": 7,
   "id": "d4f0637e",
   "metadata": {},
   "outputs": [
    {
     "data": {
      "text/plain": [
       "array(1.30076794e-06)"
      ]
     },
     "execution_count": 7,
     "metadata": {},
     "output_type": "execute_result"
    }
   ],
   "source": [
    "covn_r"
   ]
  },
  {
   "cell_type": "code",
   "execution_count": 8,
   "id": "5312af31",
   "metadata": {},
   "outputs": [],
   "source": [
    "input_len=k\n",
    "X = np.zeros((2, input_len + 1))\n",
    "Xe = np.zeros((2, input_len + 1))\n",
    "e = np.zeros((2, input_len))\n",
    "U = np.zeros((1,input_len))\n",
    "Y = np.zeros((1,input_len))\n",
    "r = np.zeros((1,input_len))\n",
    "z = np.zeros((1,input_len))\n",
    "S = np.zeros((input_len))"
   ]
  },
  {
   "cell_type": "code",
   "execution_count": 9,
   "id": "b6b75c7a",
   "metadata": {},
   "outputs": [],
   "source": [
    "mz=[]\n",
    "b=6\n",
    "FFG = calculate_FFG(C, G, Gain, F)\n",
    "X[:,0] = [0.5,0.5]\n",
    "Xe[:,0] = [0.5,0.5]\n",
    "for i in range(input_len):\n",
    "    e[:, i] = X[:, i] - Xe[:, i]\n",
    "    U[:,i] = -(Gain @ Xe[:, i])+FFG*Ref\n",
    "    X[:, i+1] = F @ X[:, i] + G @ U[:, i] + n2[:, i]\n",
    "    Y[:,i] = C @ X[:, i] + n1[:,i]\n",
    "    r[:,i] = Y[:,i] - C @ Xe[:, i]\n",
    "    Xe[:, i+1] = F @ Xe[:, i] + G @ U[:,i] + L @ r[:,i]\n",
    "    z[:,i] = r[:,i].T * (covn_r)**(-1) * r[:,i]\n",
    "    mz.append(z[:,i])\n",
    "    if i>0:\n",
    "        S[i]=max(S[i-1]+z[:,i]-b,0)"
   ]
  },
  {
   "cell_type": "code",
   "execution_count": null,
   "id": "c5a969ba",
   "metadata": {},
   "outputs": [],
   "source": [
    "z_mean=np.array([])\n",
    "z_var=np.array([])\n",
    "sums=0\n",
    "for i in range(len(mz)):\n",
    "    sums+=mz[i]\n",
    "    mean=sums/(i+1)\n",
    "    var=np.var(mz[:i+1])\n",
    "    z_mean=np.append(z_mean,mean)\n",
    "    z_var=np.append(z_var,var)"
   ]
  },
  {
   "cell_type": "code",
   "execution_count": 10,
   "id": "1d9bff23",
   "metadata": {},
   "outputs": [],
   "source": [
    "t=10\n",
    "b=6\n",
    "q=-b**(1/2)"
   ]
  },
  {
   "cell_type": "code",
   "execution_count": 11,
   "id": "2ffc57fd",
   "metadata": {},
   "outputs": [],
   "source": [
    "input_len=k\n",
    "Xk = np.zeros((2, input_len + 1))\n",
    "Xek = np.zeros((2, input_len + 1))\n",
    "ek = np.zeros((2, input_len))    \n",
    "Uk = np.zeros((1,input_len))\n",
    "Yk = np.zeros((1,input_len))\n",
    "attack= np.zeros((1,input_len))\n",
    "rk = np.zeros((1,input_len))\n",
    "zk = np.zeros((1,input_len))\n",
    "Sk = np.zeros((input_len))\n",
    "Xk[:,0] = [0.5,0.5]\n",
    "Xek[:,0] = [0.5,0.5]\n",
    "FFG = calculate_FFG(C, G, Gain, F)\n",
    "mzk=[]\n",
    "for i in range(input_len):\n",
    "    ek[:, i] = Xk[:, i] - Xek[:, i]\n",
    "    Uk[:,i] = -(Gain @ Xek[:, i])+FFG*Ref\n",
    "    Xk[:, i+1] = F @ Xk[:, i] + G @ Uk[:, i] + n2[:, i]\n",
    "    if i==200:\n",
    "        p=-(t+b-Sk[i-1])**(1/2)\n",
    "        attack[:,i]=-C@ek[:, i]-n1[:, i]+(covn_r**(1/2))*p\n",
    "    elif i>200:\n",
    "        attack[:,i]=-C@ek[:, i]-n1[:, i]+(covn_r**(1/2))*q\n",
    "    Yk[:,i] = C @ Xk[:, i] + n1[:,i] + attack[:,i]\n",
    "    rk[:,i] = Yk[:,i] - C @ Xek[:, i]\n",
    "    Xek[:, i+1] = F @ Xek[:, i] + G @ Uk[:,i] + L @ rk[:,i]\n",
    "    zk[:,i] = rk[:,i].T * (covn_r)**(-1) * rk[:,i]\n",
    "    mzk.append(zk[:,i])\n",
    "    if i>0:\n",
    "        Sk[i]=max(Sk[i-1]+zk[:,i]-b,0)"
   ]
  },
  {
   "cell_type": "code",
   "execution_count": 12,
   "id": "6b09fe17",
   "metadata": {},
   "outputs": [],
   "source": [
    "input_len=k\n",
    "Xkt = np.zeros((2, input_len + 1))\n",
    "Xekt = np.zeros((2, input_len + 1))\n",
    "ekt = np.zeros((2, input_len))    \n",
    "Ukt = np.zeros((1,input_len))\n",
    "Ykt = np.zeros((1,input_len))\n",
    "rkt = np.zeros((1,input_len))\n",
    "zkt = np.zeros((1,input_len))\n",
    "meankt = np.zeros((input_len,))\n",
    "Skt = np.zeros((input_len))\n",
    "Xkt[:,0] = [0.5,0.5]\n",
    "Xekt[:,0] = [0.5,0.5]\n",
    "FFG = calculate_FFG(C, G, Gain, F)\n",
    "sums=0\n",
    "for i in range(input_len):\n",
    "    ekt[:, i] = Xkt[:, i] - Xekt[:, i]\n",
    "    Ukt[:,i] = -(Gain @ Xekt[:, i])+FFG*Ref\n",
    "    Xkt[:, i+1] = F @ Xkt[:, i] + G @ Ukt[:, i] + n2[:, i]\n",
    "    Ykt[:,i] = C @ Xkt[:, i] + n1[:,i] + attack[:,i]\n",
    "    rkt[:,i] = Ykt[:,i] - C @ Xekt[:, i]\n",
    "    Xekt[:, i+1] = F @ Xekt[:, i] + G @ Ukt[:,i] + L @ rkt[:,i]\n",
    "    zkt[:,i] = rkt[:,i].T * (covn_r)**(-1) * rkt[:,i]\n",
    "    sums+=zkt[:,i]\n",
    "    meankt[i]=sums/(i+1)\n",
    "    if i>100:\n",
    "        if (meankt[i]>1.5 or meankt[i]<0.5):\n",
    "            b=b/1.2\n",
    "    if i>0:\n",
    "        Skt[i]=max(Skt[i-1]+zkt[:,i]-b,0)"
   ]
  },
  {
   "cell_type": "code",
   "execution_count": null,
   "id": "51ca6fa9",
   "metadata": {},
   "outputs": [],
   "source": [
    "zk_mean=np.array([])\n",
    "zk_var=np.array([])\n",
    "sums=0\n",
    "for i in range(len(mzk)):\n",
    "    sums+=mzk[i]\n",
    "    var=np.var(mzk[:i+1])\n",
    "    mean=sums/(i+1)\n",
    "    zk_mean=np.append(zk_mean,mean)\n",
    "    zk_var=np.append(zk_var,var)"
   ]
  },
  {
   "cell_type": "code",
   "execution_count": null,
   "id": "1f535e83",
   "metadata": {},
   "outputs": [],
   "source": [
    "y=[t]*len(S)\n",
    "safe=[2]*len(X[1,:-1])\n",
    "fig, axs = plt.subplots(4, 2, figsize=(16, 12))\n",
    "\n",
    "#state without attack\n",
    "axs[0, 0].plot(np.arange(0,k), X[1,:-1], color='blue')\n",
    "axs[0,0].plot(np.arange(0,len(X[1,:-1])),safe,color='orange')\n",
    "axs[0, 0].set_title('State without Attack')\n",
    "axs[0, 0].set_ylabel('State')\n",
    "\n",
    "#state with attack\n",
    "axs[0, 1].plot(np.arange(0,k), Xk[1,:-1], color='blue')\n",
    "axs[0,1].plot(np.arange(0,len(X[1,:-1])),safe,color='orange')\n",
    "axs[0, 1].set_title('State with Attack')\n",
    "axs[0, 1].set_ylabel('State')\n",
    "\n",
    "#cusum without attack\n",
    "axs[1, 0].plot(np.arange(0,len(S)), S, color='blue')\n",
    "axs[1,0].plot(np.arange(0,len(S)),y,color='orange')\n",
    "axs[1, 0].set_title('Cusum without Attack')\n",
    "axs[1, 0].set_ylabel('Cusum')\n",
    "\n",
    "#cusum with attack\n",
    "axs[1, 1].plot(np.arange(0,len(Sk)), Sk, color='blue')\n",
    "axs[1,1].plot(np.arange(0,len(S)),y,color='orange')\n",
    "axs[1, 1].set_title('Cusum with Attack')\n",
    "axs[1, 1].set_ylabel('Cusum')\n",
    "\n",
    "#plot mean without attack\n",
    "axs[2, 0].plot(np.arange(0,len(z_mean)), z_mean, color='blue')\n",
    "axs[2, 0].set_title('Z_Mean without Attack')\n",
    "axs[2, 0].set_ylabel('Mean')\n",
    "\n",
    "# Plot variance without attack\n",
    "axs[3, 0].plot(np.arange(0,len(z_var)), z_var, color='blue')\n",
    "axs[3, 0].set_title('Z_Variance without Attack')\n",
    "axs[3, 0].set_ylabel('Variance')\n",
    "\n",
    "# Plot mean with attack\n",
    "axs[2, 1].plot(np.arange(0,input_len), zk_mean, color='red')\n",
    "axs[2, 1].set_title('Z_Mean with Attack')\n",
    "axs[2, 1].set_ylabel('Mean')\n",
    "\n",
    "# Plot variance with attack\n",
    "axs[3, 1].plot(np.arange(0,input_len), zk_var, color='red')\n",
    "axs[3, 1].set_title('Z_Variance with Attack')\n",
    "axs[3, 1].set_ylabel('Variance')"
   ]
  },
  {
   "cell_type": "code",
   "execution_count": 15,
   "id": "6f31e375",
   "metadata": {},
   "outputs": [
    {
     "data": {
      "text/plain": [
       "<matplotlib.legend.Legend at 0x15c9e082dc0>"
      ]
     },
     "execution_count": 15,
     "metadata": {},
     "output_type": "execute_result"
    },
    {
     "data": {
      "image/png": "[encoded data removed]",
      "text/plain": [
       "<Figure size 1152x864 with 4 Axes>"
      ]
     },
     "metadata": {
      "needs_background": "light"
     },
     "output_type": "display_data"
    }
   ],
   "source": [
    "y=[t]*len(Skt)\n",
    "safe=[-26]*len(Xkt[0,:-1])\n",
    "fig, axs = plt.subplots(2, 2, figsize=(16, 12))\n",
    "\n",
    "#state without attack\n",
    "axs[0, 0].plot(np.arange(0,k), Xkt[0,:-1], color='blue',label='state value')\n",
    "axs[0,0].plot(np.arange(0,len(Xkt[0,:-1])),safe,color='orange',label='safety boundary')\n",
    "axs[0, 0].set_title('State with Attack')\n",
    "axs[0, 0].set_ylabel('State')\n",
    "axs[0, 0].set_xlabel('Attack Length')\n",
    "axs[0, 0].legend()\n",
    "#state with attack\n",
    "axs[0, 1].plot(np.arange(0,len(Skt)), Skt, color='blue',label='CUSUM value')\n",
    "axs[0,1].plot(np.arange(0,len(Skt)),y,color='orange',label='threshold')\n",
    "axs[0, 1].set_title('Adaptive Cusum with Attack')\n",
    "axs[0, 1].set_ylabel('CUSUM')\n",
    "axs[0, 1].set_xlabel('Attack Length')\n",
    "axs[0, 1].legend()"
   ]
  },
  {
   "cell_type": "code",
   "execution_count": null,
   "id": "1cd10362",
   "metadata": {},
   "outputs": [],
   "source": [
    "import pandas as pd\n",
    "Table1=pd.DataFrame(columns=['X1','X2','Xf1','Xf2','i'])\n",
    "Table2=pd.DataFrame(columns=['X1','X2','Xf1','Xf2','i'])"
   ]
  },
  {
   "cell_type": "code",
   "execution_count": null,
   "id": "2215126b",
   "metadata": {},
   "outputs": [],
   "source": [
    "t=10\n",
    "b=6\n",
    "q1=-b**(1/2)\n",
    "q2=b**(1/2)"
   ]
  },
  {
   "cell_type": "code",
   "execution_count": null,
   "id": "9a635ea1",
   "metadata": {},
   "outputs": [],
   "source": [
    "for j in range(150):\n",
    "    input_len=k\n",
    "    Xk = np.zeros((2, input_len + 1))\n",
    "    Xek = np.zeros((2, input_len + 1))\n",
    "    ek = np.zeros((2, input_len))    \n",
    "    Uk = np.zeros((1,input_len))\n",
    "    Yk = np.zeros((1,input_len))\n",
    "    attack= np.zeros((1,input_len))\n",
    "    rk = np.zeros((1,input_len))\n",
    "    zk = np.zeros((1,input_len))\n",
    "    Sk = np.zeros((input_len))\n",
    "    Xk[:,0] = [0.5,0.5]\n",
    "    Xek[:,0] = [0.5,0.5]\n",
    "    FFG = calculate_FFG(C, G, Gain, F)\n",
    "    Ref=2*(0.95)**j\n",
    "    for i in range(input_len):\n",
    "        ek[:, i] = Xk[:, i] - Xek[:, i]\n",
    "        Uk[:,i] = -(Gain @ Xek[:, i])+FFG*Ref\n",
    "        Xk[:, i+1] = F @ Xk[:, i] + G @ Uk[:, i] + n2[:, i]\n",
    "        if i==100:\n",
    "            p1=-(t+b-Sk[i-1])**(1/2)\n",
    "            Table1.loc[j,'X1']=Xk[0,i]\n",
    "            Table1.loc[j,'X2']=Xk[1,i]\n",
    "            attack[:,i]=-C@ek[:, i]-n1[:, i]+(covn_r**(1/2))*p1\n",
    "        elif i>100:\n",
    "            attack[:,i]=-C@ek[:, i]-n1[:, i]+(covn_r**(1/2))*q1\n",
    "        Yk[:,i] = C @ Xk[:, i] + n1[:,i] + attack[:,i]\n",
    "        rk[:,i] = Yk[:,i] - C @ Xek[:, i]\n",
    "        Xek[:, i+1] = F @ Xek[:, i] + G @ Uk[:,i] + L @ rk[:,i]\n",
    "        zk[:,i] = rk[:,i].T * (covn_r)**(-1) * rk[:,i]\n",
    "        mzk.append(zk[:,i])\n",
    "        if i>100:\n",
    "            if Xk[0][i]>1 or Xk[0][i]<-1 or Xk[1][i]>2 or Xk[1][i]<-2:\n",
    "                Table1.loc[j,'Xf1']=Xk[0,i]\n",
    "                Table1.loc[j,'Xf2']=Xk[1,i]\n",
    "                Table1.loc[j,'i']=i\n",
    "                break\n",
    "    \n",
    "    if i>0:\n",
    "        Sk[i]=max(Sk[i-1]+zk[:,i]-b,0)\n",
    "    if Sk[i]>t:\n",
    "        print(i)\n",
    "        print(\"attack detected\")\n",
    "        break"
   ]
  },
  {
   "cell_type": "code",
   "execution_count": null,
   "id": "c2087cc6",
   "metadata": {},
   "outputs": [],
   "source": [
    "for j in range(150):\n",
    "    input_len=k\n",
    "    Xk = np.zeros((2, input_len + 1))\n",
    "    Xek = np.zeros((2, input_len + 1))\n",
    "    ek = np.zeros((2, input_len))    \n",
    "    Uk = np.zeros((1,input_len))\n",
    "    Yk = np.zeros((1,input_len))\n",
    "    attack= np.zeros((1,input_len))\n",
    "    rk = np.zeros((1,input_len))\n",
    "    zk = np.zeros((1,input_len))\n",
    "    Sk = np.zeros((input_len))\n",
    "    Xk[:,0] = [-0.5,-0.5]\n",
    "    Xek[:,0] = [-0.5,-0.5]\n",
    "    FFG = calculate_FFG(C, G, Gain, F)\n",
    "    Ref=-2*(0.95)**j\n",
    "    for i in range(input_len):\n",
    "        ek[:, i] = Xk[:, i] - Xek[:, i]\n",
    "        Uk[:,i] = -(Gain @ Xek[:, i])+FFG*Ref\n",
    "        Xk[:, i+1] = F @ Xk[:, i] + G @ Uk[:, i] + n2[:, i]\n",
    "        if i==100:\n",
    "            p2=-(t+b-Sk[i-1])**(1/2)\n",
    "            Table2.loc[j,'X1']=Xk[0,i]\n",
    "            Table2.loc[j,'X2']=Xk[1,i]\n",
    "            attack[:,i]=-C@ek[:, i]-n1[:, i]+(covn_r**(1/2))*p2\n",
    "        elif i>100:\n",
    "            attack[:,i]=-C@ek[:, i]-n1[:, i]+(covn_r**(1/2))*q2\n",
    "        Yk[:,i] = C @ Xk[:, i] + n1[:,i] + attack[:,i]\n",
    "        rk[:,i] = Yk[:,i] - C @ Xek[:, i]\n",
    "        Xek[:, i+1] = F @ Xek[:, i] + G @ Uk[:,i] + L @ rk[:,i]\n",
    "        zk[:,i] = rk[:,i].T * (covn_r)**(-1) * rk[:,i]\n",
    "        mzk.append(zk[:,i])\n",
    "        if i>100:\n",
    "            if Xk[0][i]>1 or Xk[0][i]<-1 or Xk[1][i]>2 or Xk[1][i]<-2:\n",
    "                Table2.loc[j,'Xf1']=Xk[0,i]\n",
    "                Table2.loc[j,'Xf2']=Xk[1,i]\n",
    "                Table2.loc[j,'i']=i\n",
    "                break\n",
    "    \n",
    "    if i>0:\n",
    "        Sk[i]=max(Sk[i-1]+zk[:,i]-b,0)\n",
    "    if Sk[i]>t:\n",
    "        print(i)\n",
    "        print(\"attack detected\")\n",
    "        break2"
   ]
  },
  {
   "cell_type": "code",
   "execution_count": null,
   "id": "4db49cf4",
   "metadata": {},
   "outputs": [],
   "source": [
    "Table1"
   ]
  },
  {
   "cell_type": "code",
   "execution_count": null,
   "id": "fc6856b0",
   "metadata": {},
   "outputs": [],
   "source": [
    "from sklearn.linear_model import LinearRegression\n",
    "X=np.array(Table1.loc[:,'X2'].values.reshape(-1,1))\n",
    "y=np.array(Table1.loc[:,'i'].values)\n",
    "# Initialize and fit the model\n",
    "model1 = LinearRegression()\n",
    "model1.fit(X, y)\n",
    "\n",
    "# Get the slope (coefficients) and intercept\n",
    "slope1 = model1.coef_[0]\n",
    "intercept1 = model1.intercept_\n",
    "\n",
    "print(\"Slope:\", slope1)\n",
    "print(\"Intercept:\", intercept1)\n"
   ]
  },
  {
   "cell_type": "code",
   "execution_count": null,
   "id": "f76ba544",
   "metadata": {},
   "outputs": [],
   "source": [
    "from sklearn.linear_model import LinearRegression\n",
    "X=np.array(Table2.loc[:,'X2'].values.reshape(-1,1))\n",
    "y=np.array(Table2.loc[:,'i'].values)\n",
    "# Initialize and fit the model\n",
    "model2 = LinearRegression()\n",
    "model2.fit(X, y)\n",
    "\n",
    "# Get the slope (coefficients) and intercept\n",
    "slope2 = model2.coef_[0]\n",
    "intercept2 = model2.intercept_\n",
    "\n",
    "print(\"Slope:\", slope2)\n",
    "print(\"Intercept:\", intercept2)\n"
   ]
  },
  {
   "cell_type": "code",
   "execution_count": null,
   "id": "03ccb759",
   "metadata": {},
   "outputs": [],
   "source": [
    "Table=pd.concat([Table1,Table2])\n",
    "Table"
   ]
  },
  {
   "cell_type": "code",
   "execution_count": null,
   "id": "848a01d4",
   "metadata": {},
   "outputs": [],
   "source": [
    "import matplotlib.pyplot as plt\n",
    "\n",
    "\n",
    "# Generate x values\n",
    "x_values = np.arange(-2,3)\n",
    "\n",
    "# Calculate y values using the linear equation y = mx + b\n",
    "y1_values = slope1 * x_values + intercept1\n",
    "y2_values = slope2* x_values + intercept2\n",
    "data_x= np.array(Table.loc[:,'X2'].values)\n",
    "data_y=np.array(Table.loc[:,'i'].values)\n",
    "# Plot the graph\n",
    "plt.plot(x_values,np.minimum(y1_values,y2_values), label='Linear Fit')\n",
    "plt.scatter(data_x, data_y, color='red',s=10, label='Data Points') \n",
    "plt.xlabel('X2')\n",
    "plt.ylabel('attack_length')\n",
    "plt.title('ESP Controller-Linear Regression Plot')\n",
    "plt.grid(True)\n",
    "plt.legend()\n",
    "\n",
    "plt.show()\n"
   ]
  },
  {
   "cell_type": "code",
   "execution_count": null,
   "id": "6c4dcec3",
   "metadata": {},
   "outputs": [],
   "source": []
  },
  {
   "cell_type": "code",
   "execution_count": null,
   "id": "8de247ef",
   "metadata": {},
   "outputs": [],
   "source": []
  }
 ],
 "metadata": {
  "kernelspec": {
   "display_name": "Python 3 (ipykernel)",
   "language": "python",
   "name": "python3"
  },
  "language_info": {
   "codemirror_mode": {
    "name": "ipython",
    "version": 3
   },
   "file_extension": ".py",
   "mimetype": "text/x-python",
   "name": "python",
   "nbconvert_exporter": "python",
   "pygments_lexer": "ipython3",
   "version": "3.9.7"
  }
 },
 "nbformat": 4,
 "nbformat_minor": 5
}
