{
 "cells": [
  {
   "cell_type": "code",
   "execution_count": 1,
   "id": "ccb03e35",
   "metadata": {},
   "outputs": [],
   "source": [
    "import math\n",
    "import random\n",
    "\n",
    "import gym\n",
    "import numpy as np\n",
    "import pandas as pd\n",
    "\n",
    "import torch\n",
    "import torch.nn as nn\n",
    "import torch.optim as optim\n",
    "import torch.nn.functional as F\n",
    "from torch.distributions import Normal\n",
    "\n",
    "import matplotlib.pyplot as plt\n",
    "from scipy import optimize, special"
   ]
  },
  {
   "cell_type": "code",
   "execution_count": 2,
   "id": "758157be",
   "metadata": {},
   "outputs": [],
   "source": [
    "# SUS\n",
    "F= np.array([[0.995860265603438,0.0378696105301410,0.00212669277812880,0.00160492825553481],\n",
    "[-0.174562623798343,0.908578953704267,0.0461683633555589,0.0573094395666044],\n",
    "[0.0311138708080227,0.0160492825553481,0.935759216765522,0.0151544413769853],\n",
    "[1.08396104971604,0.573094395666044,-2.29631635987487,0.0906898643677941]])\n",
    "\n",
    "I = 1.038*np.eye(4)\n",
    "F = F@I\n",
    "G= np.array([[0.0904767720452509],\n",
    "[4.86962234417284],\n",
    "[1.26376928790692],\n",
    "[16.9721012819619]])\n",
    "\n",
    "C= np.array([[1,0,0,0]])\n",
    "D= 0\n",
    "\n",
    "Gain=np.array([0.432009805187403,0.0810995504158972,-0.00516553601859450,0.00797680983779656]) \n",
    "L = np.array([[1.64402519792426],\n",
    "[19.0670879046016],\n",
    "[5.65550894461184],\n",
    "[2.06775812635347]])\n",
    "\n",
    "\n",
    "safex = np.array([[-2,-200,-100,-600],\n",
    "         [2,200,100,600]])           \n"
   ]
  },
  {
   "cell_type": "code",
   "execution_count": 3,
   "id": "dfe89a91",
   "metadata": {},
   "outputs": [],
   "source": [
    "def calculate_FFG(C, G, Gain, F):\n",
    "    # Element-wise multiplication of G and Gain\n",
    "    G_Gain = G * Gain\n",
    "    \n",
    "    # Add eye(2) to G_Gain\n",
    "    G_Gain_eye = G_Gain + np.eye(4)\n",
    "    \n",
    "    # Calculate the inverse of (G_Gain_eye - F)\n",
    "    inv_G_Gain_eye_F = np.linalg.inv(G_Gain_eye - F)\n",
    "    \n",
    "    # Calculate C times the inverse\n",
    "    C_inv_G_Gain_eye_F = C.dot(inv_G_Gain_eye_F)\n",
    "    \n",
    "    # Calculate FFG\n",
    "    FFG = 1 / (C_inv_G_Gain_eye_F.dot(G))\n",
    "    \n",
    "    return FFG"
   ]
  },
  {
   "cell_type": "code",
   "execution_count": 4,
   "id": "045d7eb1",
   "metadata": {},
   "outputs": [],
   "source": [
    "k=1000\n",
    "input_len=k\n",
    "X = np.zeros((4, input_len + 1))\n",
    "Xe = np.zeros((4, input_len + 1))\n",
    "e = np.zeros((4, input_len))\n",
    "U = np.zeros((1,input_len))\n",
    "Y = np.zeros((1,input_len))\n",
    "r = np.zeros((1,input_len))\n",
    "z = np.zeros((1,input_len))\n",
    "S = np.zeros((input_len))\n",
    "n1 = np.random.normal(0,0.01,[1,input_len])      \n",
    "n2 = np.random.normal(0,0.001,[4,input_len])"
   ]
  },
  {
   "cell_type": "code",
   "execution_count": 5,
   "id": "9f8a02a3",
   "metadata": {},
   "outputs": [],
   "source": [
    "FFG = calculate_FFG(C, G, Gain, F)\n",
    "Ref=1.8\n",
    "X[:,0] = [0.6,10,10,10]\n",
    "Xe[:,0] = [0.6,10,10,10]\n",
    "for i in range(input_len):\n",
    "    e[:, i] = X[:, i] - Xe[:, i]\n",
    "    U[:,i] = -(Gain @ Xe[:, i])+FFG*Ref\n",
    "    X[:, i+1] = F @ X[:, i] + G @ U[:, i] + n2[:, i]\n",
    "    Y[:,i] = C @ X[:, i] + n1[:,i]\n",
    "    r[:,i] = Y[:,i] - C @ Xe[:, i]\n",
    "    Xe[:, i+1] = F @ Xe[:, i] + G @ U[:,i] + L @ r[:,i]\n",
    "covn_r=np.cov(r)"
   ]
  },
  {
   "cell_type": "code",
   "execution_count": 6,
   "id": "5e0e0b0c",
   "metadata": {},
   "outputs": [
    {
     "data": {
      "text/plain": [
       "array(0.00038394)"
      ]
     },
     "execution_count": 6,
     "metadata": {},
     "output_type": "execute_result"
    }
   ],
   "source": [
    "covn_r"
   ]
  },
  {
   "cell_type": "code",
   "execution_count": 7,
   "id": "9fbde9b3",
   "metadata": {},
   "outputs": [],
   "source": [
    "input_len=k\n",
    "X = np.zeros((4, input_len + 1))\n",
    "Xe = np.zeros((4, input_len + 1))\n",
    "e = np.zeros((4, input_len))\n",
    "U = np.zeros((1,input_len))\n",
    "Y = np.zeros((1,input_len))\n",
    "r = np.zeros((1,input_len))\n",
    "z = np.zeros((1,input_len))\n",
    "S = np.zeros((input_len))"
   ]
  },
  {
   "cell_type": "code",
   "execution_count": 8,
   "id": "7525ff91",
   "metadata": {},
   "outputs": [],
   "source": [
    "mz=[]\n",
    "b=6\n",
    "FFG = calculate_FFG(C, G, Gain, F)\n",
    "X[:,0] = [0.6,10,10,10]\n",
    "Xe[:,0] = [0.6,10,10,10]\n",
    "for i in range(input_len):\n",
    "    e[:, i] = X[:, i] - Xe[:, i]\n",
    "    U[:,i] = -(Gain @ Xe[:, i])+FFG*Ref\n",
    "    X[:, i+1] = F @ X[:, i] + G @ U[:, i] + n2[:, i]\n",
    "    Y[:,i] = C @ X[:, i] + n1[:,i]\n",
    "    r[:,i] = Y[:,i] - C @ Xe[:, i]\n",
    "    Xe[:, i+1] = F @ Xe[:, i] + G @ U[:,i] + L @ r[:,i]\n",
    "    z[:,i] = r[:,i].T * (covn_r)**(-1) * r[:,i]\n",
    "    mz.append(z[:,i])\n",
    "    if i>0:\n",
    "        S[i] = max(S[i-1] + z[:,i] - b,0)"
   ]
  },
  {
   "cell_type": "code",
   "execution_count": null,
   "id": "3caa261e",
   "metadata": {},
   "outputs": [],
   "source": [
    "z_mean=np.array([])\n",
    "z_var=np.array([])\n",
    "sums=0\n",
    "for i in range(len(mz)):\n",
    "    sums+=mz[i]\n",
    "    mean=sums/(i+1)\n",
    "    var=np.var(mz[:i+1])\n",
    "    z_mean=np.append(z_mean,mean)\n",
    "    z_var=np.append(z_var,var)"
   ]
  },
  {
   "cell_type": "code",
   "execution_count": 9,
   "id": "85ceac5e",
   "metadata": {},
   "outputs": [],
   "source": [
    "t=10\n",
    "b=6\n",
    "q=-b**(1/2)"
   ]
  },
  {
   "cell_type": "code",
   "execution_count": 10,
   "id": "25998977",
   "metadata": {},
   "outputs": [],
   "source": [
    "input_len=k\n",
    "Xk = np.zeros((4, input_len + 1))\n",
    "Xek = np.zeros((4, input_len + 1))\n",
    "ek = np.zeros((4, input_len))    \n",
    "Uk = np.zeros((1,input_len))\n",
    "Yk = np.zeros((1,input_len))\n",
    "attack= np.zeros((1,input_len))\n",
    "rk = np.zeros((1,input_len))\n",
    "zk = np.zeros((1,input_len))\n",
    "Sk = np.zeros((input_len))\n",
    "Xk[:,0] = [0.6,10,10,10]\n",
    "Xek[:,0] = [0.6,10,10,10]\n",
    "FFG = calculate_FFG(C, G, Gain, F)\n",
    "mzk=[]\n",
    "for i in range(input_len):\n",
    "    ek[:, i] = Xk[:, i] - Xek[:, i]\n",
    "    Uk[:,i] = -(Gain @ Xek[:, i])+FFG*Ref\n",
    "    Xk[:, i+1] = F @ Xk[:, i] + G @ Uk[:, i] + n2[:, i]\n",
    "    if i==200:\n",
    "        p=-(t+b-Sk[i-1])**(1/2)\n",
    "        attack[:,i]=-C@ek[:, i]-n1[:, i]+(covn_r**(1/2))*p\n",
    "    elif i>200:\n",
    "        attack[:,i]=-C@ek[:, i]-n1[:, i]+(covn_r**(1/2))*q\n",
    "    Yk[:,i] = C @ Xk[:, i] + n1[:,i] + attack[:,i]\n",
    "    rk[:,i] = Yk[:,i] - C @ Xek[:, i]\n",
    "    Xek[:, i+1] = F @ Xek[:, i] + G @ Uk[:,i] + L @ rk[:,i]\n",
    "    zk[:,i] = rk[:,i].T * (covn_r)**(-1) * rk[:,i]\n",
    "    mzk.append(zk[:,i])\n",
    "    if i>0:\n",
    "        Sk[i] = max(0,Sk[i-1] + zk[:,i] - b)"
   ]
  },
  {
   "cell_type": "code",
   "execution_count": 11,
   "id": "689664e4",
   "metadata": {},
   "outputs": [],
   "source": [
    "input_len=k\n",
    "Xkt = np.zeros((4, input_len + 1))\n",
    "Xekt = np.zeros((4, input_len + 1))\n",
    "ekt = np.zeros((4, input_len))    \n",
    "Ukt = np.zeros((1,input_len))\n",
    "Ykt = np.zeros((1,input_len))\n",
    "rkt = np.zeros((1,input_len))\n",
    "zkt = np.zeros((1,input_len))\n",
    "meankt = np.zeros((input_len,))\n",
    "Skt = np.zeros((input_len))\n",
    "Xkt[:,0] = [0.6,10,10,10]\n",
    "Xekt[:,0] = [0.6,10,10,10]\n",
    "FFG = calculate_FFG(C, G, Gain, F)\n",
    "sums=0\n",
    "for i in range(input_len):\n",
    "    ekt[:, i] = Xkt[:, i] - Xekt[:, i]\n",
    "    Ukt[:,i] = -(Gain @ Xekt[:, i])+FFG*Ref\n",
    "    Xkt[:, i+1] = F @ Xkt[:, i] + G @ Ukt[:, i] + n2[:, i]\n",
    "    Ykt[:,i] = C @ Xkt[:, i] + n1[:,i] + attack[:,i]\n",
    "    rkt[:,i] = Ykt[:,i] - C @ Xekt[:, i]\n",
    "    Xekt[:, i+1] = F @ Xekt[:, i] + G @ Ukt[:,i] + L @ rkt[:,i]\n",
    "    zkt[:,i] = rkt[:,i].T * (covn_r)**(-1) * rkt[:,i]\n",
    "    sums+=zkt[:,i]\n",
    "    meankt[i]=sums/(i+1)\n",
    "    if i>100:\n",
    "        if (meankt[i]>1.5 or meankt[i]<0.5):\n",
    "            b=b/1.2\n",
    "    if i>0:\n",
    "        Skt[i]=max(Skt[i-1]+zkt[:,i]-b,0)"
   ]
  },
  {
   "cell_type": "code",
   "execution_count": null,
   "id": "d52303fb",
   "metadata": {},
   "outputs": [],
   "source": [
    "zk_mean=np.array([])\n",
    "zk_var=np.array([])\n",
    "sums=0\n",
    "for i in range(len(mzk)):\n",
    "    sums+=mzk[i]\n",
    "    var=np.var(mzk[:i+1])\n",
    "    mean=sums/(i+1)\n",
    "    zk_mean=np.append(zk_mean,mean)\n",
    "    zk_var=np.append(zk_var,var)"
   ]
  },
  {
   "cell_type": "code",
   "execution_count": null,
   "id": "a309c9f4",
   "metadata": {},
   "outputs": [],
   "source": [
    "y=[10]*len(S)\n",
    "fig, axs = plt.subplots(4, 2, figsize=(16, 12))\n",
    "\n",
    "#state without attack\n",
    "axs[0, 0].plot(np.arange(0,k), X[0,:-1], color='blue')\n",
    "axs[0, 0].set_title('State without Attack')\n",
    "axs[0, 0].set_ylabel('State')\n",
    "\n",
    "#state with attack\n",
    "axs[0, 1].plot(np.arange(0,k), Xk[0,:-1], color='blue')\n",
    "axs[0, 1].set_title('State with Attack')\n",
    "axs[0, 1].set_ylabel('State')\n",
    "\n",
    "#cusum without attack\n",
    "axs[1, 0].plot(np.arange(0,len(S)), S, color='blue')\n",
    "axs[1,0].plot(np.arange(0,len(S)),y,color='yellow')\n",
    "axs[1, 0].set_title('Cusum without Attack')\n",
    "axs[1, 0].set_ylabel('Cusum')\n",
    "\n",
    "#cusum with attack\n",
    "axs[1, 1].plot(np.arange(0,len(Sk)), Sk, color='blue')\n",
    "axs[1,1].plot(np.arange(0,len(S)),y,color='yellow')\n",
    "axs[1, 1].set_title('Cusum with Attack')\n",
    "axs[1, 1].set_ylabel('Cusum')\n",
    "\n",
    "#plot mean without attack\n",
    "axs[2, 0].plot(np.arange(0,len(z_mean)), z_mean, color='blue')\n",
    "axs[2, 0].set_title('Z_Mean without Attack')\n",
    "axs[2, 0].set_ylabel('Mean')\n",
    "\n",
    "# Plot variance without attack\n",
    "axs[3, 0].plot(np.arange(0,len(z_var)), z_var, color='blue')\n",
    "axs[3, 0].set_title('Z_Variance without Attack')\n",
    "axs[3, 0].set_ylabel('Variance')\n",
    "\n",
    "# Plot mean with attack\n",
    "axs[2, 1].plot(np.arange(0,input_len), zk_mean, color='red')\n",
    "axs[2, 1].set_title('Z_Mean with Attack')\n",
    "axs[2, 1].set_ylabel('Mean')\n",
    "\n",
    "# Plot variance with attack\n",
    "axs[3, 1].plot(np.arange(0,input_len), zk_var, color='red')\n",
    "axs[3, 1].set_title('Z_Variance with Attack')\n",
    "axs[3, 1].set_ylabel('Variance')"
   ]
  },
  {
   "cell_type": "code",
   "execution_count": 12,
   "id": "eaa016c6",
   "metadata": {},
   "outputs": [
    {
     "data": {
      "text/plain": [
       "<matplotlib.legend.Legend at 0x1ec4dc7c880>"
      ]
     },
     "execution_count": 12,
     "metadata": {},
     "output_type": "execute_result"
    },
    {
     "data": {
      "image/png": "[encoded data removed]",
      "text/plain": [
       "<Figure size 1152x864 with 4 Axes>"
      ]
     },
     "metadata": {
      "needs_background": "light"
     },
     "output_type": "display_data"
    }
   ],
   "source": [
    "y=[t]*len(Skt)\n",
    "safe=[26]*len(Xkt[0,:-1])\n",
    "fig, axs = plt.subplots(2, 2, figsize=(16, 12))\n",
    "\n",
    "#state without attack\n",
    "axs[0, 0].plot(np.arange(0,k), Xkt[0,:-1], color='blue',label='state value')\n",
    "axs[0,0].plot(np.arange(0,len(Xkt[0,:-1])),safe,color='orange',label='safety boundary')\n",
    "axs[0, 0].set_title('State with Attack')\n",
    "axs[0, 0].set_ylabel('State')\n",
    "axs[0, 0].set_xlabel('Attack Length')\n",
    "axs[0, 0].legend()\n",
    "#state with attack\n",
    "axs[0, 1].plot(np.arange(0,len(Skt)), Skt, color='blue',label='CUSUM value')\n",
    "axs[0,1].plot(np.arange(0,len(Skt)),y,color='orange',label='threshold')\n",
    "axs[0, 1].set_title('Adaptive Cusum with Attack')\n",
    "axs[0, 1].set_ylabel('CUSUM')\n",
    "axs[0, 1].set_xlabel('Attack Length')\n",
    "axs[0, 1].legend()"
   ]
  },
  {
   "cell_type": "code",
   "execution_count": null,
   "id": "b0a33b73",
   "metadata": {},
   "outputs": [],
   "source": [
    "import pandas as pd\n",
    "Table1=pd.DataFrame(columns=['X1','X2','X3','X4','Xf1','Xf2','Xf3','Xf4','i'])\n",
    "Table2=pd.DataFrame(columns=['X1','X2','X3','X4','Xf1','Xf2','Xf3','Xf4','i'])"
   ]
  },
  {
   "cell_type": "code",
   "execution_count": null,
   "id": "c3bca024",
   "metadata": {},
   "outputs": [],
   "source": [
    "t=10\n",
    "b=6\n",
    "q1=-b**(1/2)\n",
    "q2=b**(1/2)"
   ]
  },
  {
   "cell_type": "code",
   "execution_count": null,
   "id": "eec96e93",
   "metadata": {},
   "outputs": [],
   "source": [
    "for j in range(100):\n",
    "    input_len=500\n",
    "    Xk = np.zeros((4, input_len + 1))\n",
    "    Xek = np.zeros((4, input_len + 1))\n",
    "    ek = np.zeros((4, input_len))    \n",
    "    Uk = np.zeros((1,input_len))\n",
    "    Yk = np.zeros((1,input_len))\n",
    "    attack= np.zeros((1,input_len))\n",
    "    rk = np.zeros((1,input_len))\n",
    "    zk = np.zeros((1,input_len))\n",
    "    Sk = np.zeros((input_len))\n",
    "    Xk[:,0] = [0.6,10,10,10]\n",
    "    Xek[:,0] = [0.6,10,10,10]\n",
    "    FFG = calculate_FFG(C, G, Gain, F)\n",
    "    Ref=1.8*(0.95)**j\n",
    "    for i in range(input_len):\n",
    "        ek[:, i] = Xk[:, i] - Xek[:, i]\n",
    "        Uk[:,i] = -(Gain @ Xek[:, i])+FFG*Ref\n",
    "        Xk[:, i+1] = F @ Xk[:, i] + G @ Uk[:, i] + n2[:, i]\n",
    "        if i==200:\n",
    "            p1=-(t+b-Sk[i-1])**(1/2)\n",
    "            Table1.loc[j,'X1']=Xk[0,i]\n",
    "            Table1.loc[j,'X2']=Xk[1,i]\n",
    "            Table1.loc[j,'X3']=Xk[2,i]\n",
    "            Table1.loc[j,'X4']=Xk[3,i]\n",
    "            attack[:,i]=-C@ek[:, i]-n1[:, i]+(covn_r**(1/2))*p1\n",
    "        elif i>200:\n",
    "            attack[:,i]=-C@ek[:, i]-n1[:, i]+(covn_r**(1/2))*q1\n",
    "        Yk[:,i] = C @ Xk[:, i] + n1[:,i] + attack[:,i]\n",
    "        rk[:,i] = Yk[:,i] - C @ Xek[:, i]\n",
    "        Xek[:, i+1] = F @ Xek[:, i] + G @ Uk[:,i] + L @ rk[:,i]\n",
    "        zk[:,i] = rk[:,i].T * (covn_r)**(-1) * rk[:,i]\n",
    "        mzk.append(zk[:,i])\n",
    "        if i>100:\n",
    "            if Xk[0][i]>2 or Xk[0][i]<-2 or Xk[1][i]>200 or Xk[1][i]<-200:\n",
    "                Table1.loc[j,'Xf1']=Xk[0,i]\n",
    "                Table1.loc[j,'Xf2']=Xk[1,i]\n",
    "                Table1.loc[j,'Xf3']=Xk[2,i]\n",
    "                Table1.loc[j,'Xf4']=Xk[3,i]\n",
    "                Table1.loc[j,'i']=i\n",
    "                break\n",
    "    \n",
    "    if i>0:\n",
    "        Sk[i]=max(Sk[i-1]+zk[:,i]-b,0)\n",
    "    if Sk[i]>t:\n",
    "        print(i)\n",
    "        print(\"attack detected\")\n",
    "        break"
   ]
  },
  {
   "cell_type": "code",
   "execution_count": null,
   "id": "30cdb6f3",
   "metadata": {},
   "outputs": [],
   "source": [
    "for j in range(100):\n",
    "    input_len=k\n",
    "    Xk = np.zeros((4, input_len + 1))\n",
    "    Xek = np.zeros((4, input_len + 1))\n",
    "    ek = np.zeros((4, input_len))    \n",
    "    Uk = np.zeros((1,input_len))\n",
    "    Yk = np.zeros((1,input_len))\n",
    "    attack= np.zeros((1,input_len))\n",
    "    rk = np.zeros((1,input_len))\n",
    "    zk = np.zeros((1,input_len))\n",
    "    Sk = np.zeros((input_len))\n",
    "    Xk[:,0] = [-0.6,-10,-10,-10]\n",
    "    Xek[:,0] = [-0.6,-10,-10,-10]\n",
    "    FFG = calculate_FFG(C, G, Gain, F)\n",
    "    Ref=-1.8*(0.95)**j\n",
    "    for i in range(input_len):\n",
    "        ek[:, i] = Xk[:, i] - Xek[:, i]\n",
    "        Uk[:,i] = -(Gain @ Xek[:, i])+FFG*Ref\n",
    "        Xk[:, i+1] = F @ Xk[:, i] + G @ Uk[:, i] + n2[:, i]\n",
    "        if i==200:\n",
    "            p2=(t+b-Sk[i-1])**(1/2)\n",
    "            Table2.loc[j,'X1']=Xk[0,i]\n",
    "            Table2.loc[j,'X2']=Xk[1,i]\n",
    "            Table2.loc[j,'X3']=Xk[2,i]\n",
    "            Table2.loc[j,'X4']=Xk[3,i]\n",
    "            attack[:,i]=-C@ek[:, i]-n1[:, i]+(covn_r**(1/2))*p2\n",
    "        elif i>200:\n",
    "            attack[:,i]=-C@ek[:, i]-n1[:, i]+(covn_r**(1/2))*q2\n",
    "        Yk[:,i] = C @ Xk[:, i] + n1[:,i] + attack[:,i]\n",
    "        rk[:,i] = Yk[:,i] - C @ Xek[:, i]\n",
    "        Xek[:, i+1] = F @ Xek[:, i] + G @ Uk[:,i] + L @ rk[:,i]\n",
    "        zk[:,i] = rk[:,i].T * (covn_r)**(-1) * rk[:,i]\n",
    "        mzk.append(zk[:,i])\n",
    "        if i>100:\n",
    "            if Xk[0][i]>2 or Xk[0][i]<-2 or Xk[1][i]>200 or Xk[1][i]<-200:\n",
    "                Table2.loc[j,'Xf1']=Xk[0,i]\n",
    "                Table2.loc[j,'Xf2']=Xk[1,i]\n",
    "                Table2.loc[j,'Xf3']=Xk[2,i]\n",
    "                Table2.loc[j,'Xf4']=Xk[3,i]\n",
    "                Table2.loc[j,'i']=i\n",
    "                break\n",
    "    \n",
    "    if i>0:\n",
    "        Sk[i]=max(Sk[i-1]+zk[:,i]-b,0)"
   ]
  },
  {
   "cell_type": "code",
   "execution_count": null,
   "id": "262b5d31",
   "metadata": {},
   "outputs": [],
   "source": [
    "from sklearn.linear_model import LinearRegression\n",
    "X=np.array(Table1.loc[:,'X1'].values.reshape(-1,1))\n",
    "y=np.array(Table1.loc[:,'i'].values)\n",
    "# Initialize and fit the model\n",
    "model1 = LinearRegression()\n",
    "model1.fit(X, y)\n",
    "\n",
    "# Get the slope (coefficients) and intercept\n",
    "slope1 = model1.coef_[0]\n",
    "intercept1 = model1.intercept_\n",
    "\n",
    "print(\"Slope:\", slope1)\n",
    "print(\"Intercept:\", intercept1)\n"
   ]
  },
  {
   "cell_type": "code",
   "execution_count": null,
   "id": "d16c2769",
   "metadata": {},
   "outputs": [],
   "source": [
    "from sklearn.linear_model import LinearRegression\n",
    "X=np.array(Table2.loc[:,'X1'].values.reshape(-1,1))\n",
    "y=np.array(Table2.loc[:,'i'].values)\n",
    "# Initialize and fit the model\n",
    "model2 = LinearRegression()\n",
    "model2.fit(X, y)\n",
    "\n",
    "# Get the slope (coefficients) and intercept\n",
    "slope2 = model2.coef_[0]\n",
    "intercept2 = model2.intercept_\n",
    "\n",
    "print(\"Slope:\", slope2)\n",
    "print(\"Intercept:\", intercept2)\n"
   ]
  },
  {
   "cell_type": "code",
   "execution_count": null,
   "id": "b49074bf",
   "metadata": {},
   "outputs": [],
   "source": [
    "Table=pd.concat([Table1,Table2])\n",
    "Table"
   ]
  },
  {
   "cell_type": "code",
   "execution_count": null,
   "id": "88fd4a3e",
   "metadata": {},
   "outputs": [],
   "source": [
    "import matplotlib.pyplot as plt\n",
    "\n",
    "\n",
    "# Generate x values\n",
    "x_values = np.arange(-2,3)\n",
    "\n",
    "# Calculate y values using the linear equation y = mx + b\n",
    "y1_values = slope1 * x_values + intercept1\n",
    "y2_values = slope2* x_values + intercept2\n",
    "data_x= np.array(Table.loc[:,'X1'].values)\n",
    "data_y=np.array(Table.loc[:,'i'].values)\n",
    "# Plot the graph\n",
    "plt.plot(x_values,np.minimum(y1_values,y2_values), label='Linear Fit')\n",
    "plt.scatter(data_x, data_y, color='red',s=10, label='Data Points') \n",
    "plt.xlabel('X1')\n",
    "plt.ylabel('attack_length')\n",
    "plt.title('Suspension Controller-Linear Regression Plot')\n",
    "plt.grid(True)\n",
    "plt.legend()\n",
    "\n",
    "plt.show()\n"
   ]
  },
  {
   "cell_type": "code",
   "execution_count": null,
   "id": "662a45b3",
   "metadata": {},
   "outputs": [],
   "source": [
    "Table[150:200]"
   ]
  },
  {
   "cell_type": "code",
   "execution_count": null,
   "id": "9dafb7d9",
   "metadata": {},
   "outputs": [],
   "source": [
    "data=pd.DataFrame(columns=['max','min','attack_length'])\n",
    "data.loc[0,:]=[1.8,0.2,205]\n",
    "data.loc[1,:]=[0.2,0,211]\n",
    "data.loc[2,:]=[-0.6,-1.8,204]\n",
    "data.loc[3,:]=[0,-0.6,209]\n",
    "data"
   ]
  },
  {
   "cell_type": "code",
   "execution_count": null,
   "id": "456154d0",
   "metadata": {},
   "outputs": [],
   "source": [
    "data.to_excel('data_part1.xlsx')"
   ]
  },
  {
   "cell_type": "code",
   "execution_count": null,
   "id": "e5175cf0",
   "metadata": {},
   "outputs": [],
   "source": []
  }
 ],
 "metadata": {
  "kernelspec": {
   "display_name": "Python 3 (ipykernel)",
   "language": "python",
   "name": "python3"
  },
  "language_info": {
   "codemirror_mode": {
    "name": "ipython",
    "version": 3
   },
   "file_extension": ".py",
   "mimetype": "text/x-python",
   "name": "python",
   "nbconvert_exporter": "python",
   "pygments_lexer": "ipython3",
   "version": "3.9.7"
  }
 },
 "nbformat": 4,
 "nbformat_minor": 5
}
