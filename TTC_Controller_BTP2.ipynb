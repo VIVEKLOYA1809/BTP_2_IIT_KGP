{
 "cells": [
  {
   "cell_type": "code",
   "execution_count": 1,
   "id": "ccb03e35",
   "metadata": {},
   "outputs": [],
   "source": [
    "import math\n",
    "import random\n",
    "\n",
    "import gym\n",
    "import numpy as np\n",
    "\n",
    "import torch\n",
    "import torch.nn as nn\n",
    "import torch.optim as optim\n",
    "import torch.nn.functional as F\n",
    "from torch.distributions import Normal"
   ]
  },
  {
   "cell_type": "code",
   "execution_count": 2,
   "id": "e2b38f67",
   "metadata": {},
   "outputs": [],
   "source": [
    "def calculate_FFG(C, G, Gain, F):\n",
    "    # Element-wise multiplication of G and Gain\n",
    "    G_Gain = G * Gain\n",
    "    \n",
    "    # Add eye(2) to G_Gain\n",
    "    G_Gain_eye = G_Gain + np.eye(2)\n",
    "    \n",
    "    # Calculate the inverse of (G_Gain_eye - F)\n",
    "    inv_G_Gain_eye_F = np.linalg.inv(G_Gain_eye - F)\n",
    "    \n",
    "    # Calculate C times the inverse\n",
    "    C_inv_G_Gain_eye_F = C.dot(inv_G_Gain_eye_F)\n",
    "    \n",
    "    # Calculate FFG\n",
    "    FFG = 1 / (C_inv_G_Gain_eye_F.dot(G))\n",
    "    \n",
    "    return FFG"
   ]
  },
  {
   "cell_type": "code",
   "execution_count": 3,
   "id": "7188d9ca",
   "metadata": {},
   "outputs": [],
   "source": [
    "import numpy as np\n",
    "import pandas as pd\n",
    "import matplotlib.pyplot as plt\n",
    "from scipy import optimize, special\n",
    "F = np.array([[1,.1],\n",
    "              [0, 1.0]])\n",
    "\n",
    "G = np.array([[0.0050],\n",
    "              [0.1]])\n",
    "\n",
    "C = np.array([[1,0]])\n",
    "\n",
    "D = 0\n",
    "Gain = np.array([16.0302, 5.6622])\n",
    "\n",
    "L = np.array([[0.9902],\n",
    "              [0.9892]])\n",
    "safex = [26,31]"
   ]
  },
  {
   "cell_type": "code",
   "execution_count": 4,
   "id": "045d7eb1",
   "metadata": {},
   "outputs": [],
   "source": [
    "k=2000\n",
    "inputs = np.random.normal(0, 1, k)\n",
    "input_len=len(inputs)\n",
    "X = np.zeros((2, input_len + 1))\n",
    "Xe = np.zeros((2, input_len + 1))\n",
    "e = np.zeros((2, input_len))\n",
    "U = np.zeros((1,input_len))\n",
    "Y = np.zeros((1,input_len))\n",
    "r = np.zeros((1,input_len))\n",
    "z = np.zeros((1,input_len))\n",
    "S = np.zeros((input_len))\n",
    "n1 = np.random.normal(0,0.01,[1,input_len])      \n",
    "n2 = np.random.normal(0,0.001,[2,input_len])"
   ]
  },
  {
   "cell_type": "code",
   "execution_count": 5,
   "id": "9f8a02a3",
   "metadata": {},
   "outputs": [],
   "source": [
    "FFG = calculate_FFG(C, G, Gain, F)\n",
    "Ref=20\n",
    "X[:,0] = [2,4]\n",
    "Xe[:,0] = [2,4]\n",
    "for i in range(input_len):\n",
    "    e[:, i] = X[:, i] - Xe[:, i]\n",
    "    U[:,i] = -(Gain @ Xe[:, i])+FFG*Ref\n",
    "    X[:, i+1] = F @ X[:, i] + G @ U[:, i] + n2[:, i]\n",
    "    Y[:,i] = C @ X[:, i] + n1[:,i]\n",
    "    r[:,i] = Y[:,i] - C @ Xe[:, i]\n",
    "    Xe[:, i+1] = F @ Xe[:, i] + G @ U[:,i] + L @ r[:,i]\n",
    "covn_r=np.cov(r)"
   ]
  },
  {
   "cell_type": "code",
   "execution_count": 6,
   "id": "d4f0637e",
   "metadata": {},
   "outputs": [
    {
     "data": {
      "text/plain": [
       "array(0.0002016)"
      ]
     },
     "execution_count": 6,
     "metadata": {},
     "output_type": "execute_result"
    }
   ],
   "source": [
    "covn_r"
   ]
  },
  {
   "cell_type": "code",
   "execution_count": 7,
   "id": "5312af31",
   "metadata": {},
   "outputs": [],
   "source": [
    "input_len=k\n",
    "X = np.zeros((2, input_len + 1))\n",
    "Xe = np.zeros((2, input_len + 1))\n",
    "e = np.zeros((2, input_len))\n",
    "U = np.zeros((1,input_len))\n",
    "Y = np.zeros((1,input_len))\n",
    "r = np.zeros((1,input_len))\n",
    "z = np.zeros((1,input_len))\n",
    "S = np.zeros((input_len))"
   ]
  },
  {
   "cell_type": "code",
   "execution_count": 8,
   "id": "b6b75c7a",
   "metadata": {},
   "outputs": [],
   "source": [
    "mz=[]\n",
    "b=6\n",
    "FFG = calculate_FFG(C, G, Gain, F)\n",
    "X[:,0] = [2,4]\n",
    "Xe[:,0] = [2,4]\n",
    "for i in range(input_len):\n",
    "    e[:, i] = X[:, i] - Xe[:, i]\n",
    "    U[:,i] = -(Gain @ Xe[:, i])+FFG*Ref\n",
    "    X[:, i+1] = F @ X[:, i] + G @ U[:, i] + n2[:, i]\n",
    "    Y[:,i] = C @ X[:, i] + n1[:,i]\n",
    "    r[:,i] = Y[:,i] - C @ Xe[:, i]\n",
    "    Xe[:, i+1] = F @ Xe[:, i] + G @ U[:,i] + L @ r[:,i]\n",
    "    z[:,i] = r[:,i].T * (covn_r)**(-1) * r[:,i]\n",
    "    mz.append(z[:,i])\n",
    "    if i>0:\n",
    "        S[i]=max(S[i-1]+z[:,i]-b,0)"
   ]
  },
  {
   "cell_type": "code",
   "execution_count": null,
   "id": "c5a969ba",
   "metadata": {},
   "outputs": [],
   "source": [
    "z_mean=np.array([])\n",
    "z_var=np.array([])\n",
    "sums=0\n",
    "for i in range(len(mz)):\n",
    "    sums+=mz[i]\n",
    "    mean=sums/(i+1)\n",
    "    var=np.var(mz[:i+1])\n",
    "    z_mean=np.append(z_mean,mean)\n",
    "    z_var=np.append(z_var,var)"
   ]
  },
  {
   "cell_type": "code",
   "execution_count": 9,
   "id": "ed5cb062",
   "metadata": {},
   "outputs": [],
   "source": [
    "t=10\n",
    "b=6"
   ]
  },
  {
   "cell_type": "code",
   "execution_count": 10,
   "id": "2ffc57fd",
   "metadata": {},
   "outputs": [],
   "source": [
    "input_len=k\n",
    "Xk = np.zeros((2, input_len + 1))\n",
    "Xek = np.zeros((2, input_len + 1))\n",
    "ek = np.zeros((2, input_len))    \n",
    "Uk = np.zeros((1,input_len))\n",
    "Yk = np.zeros((1,input_len))\n",
    "attack= np.zeros((1,input_len))\n",
    "rk = np.zeros((1,input_len))\n",
    "zk = np.zeros((1,input_len))\n",
    "Sk = np.zeros((input_len))\n",
    "Xk[:,0] = [2,4]\n",
    "Xek[:,0] = [2,4]\n",
    "FFG = calculate_FFG(C, G, Gain, F)\n",
    "mzk=[]\n",
    "for i in range(input_len):\n",
    "    ek[:, i] = Xk[:, i] - Xek[:, i]\n",
    "    Uk[:,i] = -(Gain @ Xek[:, i])+FFG*Ref\n",
    "    Xk[:, i+1] = F @ Xk[:, i] + G @ Uk[:, i] + n2[:, i]\n",
    "    if i==200:\n",
    "        p=-(t+b-Sk[i-1])**(1/2)\n",
    "        #+2*np.random.random()*(t+b-Sk[i-1])**(1/2)\n",
    "        attack[:,i]=-C@ek[:, i]-n1[:, i]+(covn_r**(1/2))*p\n",
    "    elif i>200:\n",
    "        q=-(b)**(1/2)\n",
    "        #+2*np.random.random()*(b)**(1/2)\n",
    "        attack[:,i]=-C@ek[:, i]-n1[:, i]+(covn_r**(1/2))*q\n",
    "    Yk[:,i] = C @ Xk[:, i] + n1[:,i] + attack[:,i]\n",
    "    rk[:,i] = Yk[:,i] - C @ Xek[:, i]\n",
    "    Xek[:, i+1] = F @ Xek[:, i] + G @ Uk[:,i] + L @ rk[:,i]\n",
    "    zk[:,i] = rk[:,i].T * (covn_r)**(-1) * rk[:,i]\n",
    "    mzk.append(zk[:,i])\n",
    "    if i>0:\n",
    "        Sk[i]=max(Sk[i-1]+zk[:,i]-b,0)"
   ]
  },
  {
   "cell_type": "code",
   "execution_count": null,
   "id": "19512fec",
   "metadata": {},
   "outputs": [],
   "source": [
    "input_len=k\n",
    "Xkt = np.zeros((2, input_len + 1))\n",
    "Xekt = np.zeros((2, input_len + 1))\n",
    "ekt = np.zeros((2, input_len))    \n",
    "Ukt = np.zeros((1,input_len))\n",
    "Ykt = np.zeros((1,input_len))\n",
    "rkt = np.zeros((1,input_len))\n",
    "zkt = np.zeros((1,input_len))\n",
    "meankt = np.zeros((input_len,))\n",
    "Skt = np.zeros((input_len))\n",
    "Xkt[:,0] = [2,4]\n",
    "Xekt[:,0] = [2,4]\n",
    "FFG = calculate_FFG(C, G, Gain, F)\n",
    "sums=0\n",
    "for i in range(input_len):\n",
    "    ekt[:, i] = Xkt[:, i] - Xekt[:, i]\n",
    "    Ukt[:,i] = -(Gain @ Xekt[:, i])+FFG*Ref\n",
    "    Xkt[:, i+1] = F @ Xkt[:, i] + G @ Ukt[:, i] + n2[:, i]\n",
    "    Ykt[:,i] = C @ Xkt[:, i] + n1[:,i] + attack[:,i]\n",
    "    rkt[:,i] = Ykt[:,i] - C @ Xekt[:, i]\n",
    "    Xekt[:, i+1] = F @ Xekt[:, i] + G @ Ukt[:,i] + L @ rkt[:,i]\n",
    "    zkt[:,i] = rkt[:,i].T * (covn_r)**(-1) * rkt[:,i]\n",
    "    sums+=zkt[:,i]\n",
    "    meankt[i]=sums/(i+1)\n",
    "    if i>100:\n",
    "        if (meankt[i]>1.5 or meankt[i]<0.5):\n",
    "            b=b/1.2\n",
    "    if i>0:\n",
    "        Skt[i]=max(Skt[i-1]+zkt[:,i]-b,0)"
   ]
  },
  {
   "cell_type": "code",
   "execution_count": null,
   "id": "51ca6fa9",
   "metadata": {},
   "outputs": [],
   "source": [
    "zk_mean=np.array([])\n",
    "zk_var=np.array([])\n",
    "sums=0\n",
    "for i in range(len(mzk)):\n",
    "    sums+=mzk[i]\n",
    "    var=np.var(mzk[:i+1])\n",
    "    mean=sums/(i+1)\n",
    "    zk_mean=np.append(zk_mean,mean)\n",
    "    zk_var=np.append(zk_var,var)"
   ]
  },
  {
   "cell_type": "code",
   "execution_count": null,
   "id": "1f535e83",
   "metadata": {},
   "outputs": [],
   "source": [
    "y=[t]*len(S)\n",
    "safe=[26]*len(X[0,:-1])\n",
    "fig, axs = plt.subplots(4, 2, figsize=(16, 12))\n",
    "\n",
    "#state without attack\n",
    "axs[0, 0].plot(np.arange(0,k), X[0,:-1], color='blue')\n",
    "axs[0,0].plot(np.arange(0,len(X[0,:-1])),safe,color='orange')\n",
    "axs[0, 0].set_title('State without Attack')\n",
    "axs[0, 0].set_ylabel('State')\n",
    "\n",
    "#state with attack\n",
    "axs[0, 1].plot(np.arange(0,k), Xk[0,:-1], color='blue')\n",
    "axs[0,1].plot(np.arange(0,len(X[0,:-1])),safe,color='orange')\n",
    "axs[0, 1].set_title('State with Attack')\n",
    "axs[0, 1].set_ylabel('State')\n",
    "\n",
    "#cusum without attack\n",
    "axs[1, 0].plot(np.arange(0,len(S)), S, color='blue')\n",
    "axs[1,0].plot(np.arange(0,len(S)),y,color='orange')\n",
    "axs[1, 0].set_title('Cusum without Attack')\n",
    "axs[1, 0].set_ylabel('Cusum')\n",
    "\n",
    "#cusum with attack\n",
    "axs[1, 1].plot(np.arange(0,len(Sk)), Sk, color='blue')\n",
    "axs[1,1].plot(np.arange(0,len(Sk)),y,color='orange')\n",
    "axs[1, 1].set_title('Cusum with Attack')\n",
    "axs[1, 1].set_ylabel('Cusum')\n",
    "\n",
    "#plot mean without attack\n",
    "axs[2, 0].plot(np.arange(0,len(z_mean)), z_mean, color='blue')\n",
    "axs[2, 0].set_title('Z_Mean without Attack')\n",
    "axs[2, 0].set_ylabel('Mean')\n",
    "\n",
    "# Plot variance without attack\n",
    "axs[3, 0].plot(np.arange(0,len(z_var)), z_var, color='blue')\n",
    "axs[3, 0].set_title('Z_Variance without Attack')\n",
    "axs[3, 0].set_ylabel('Variance')\n",
    "\n",
    "# Plot mean with attack\n",
    "axs[2, 1].plot(np.arange(0,len(zk_mean)), zk_mean, color='red')\n",
    "axs[2, 1].set_title('Z_Mean with Attack')\n",
    "axs[2, 1].set_ylabel('Mean')\n",
    "\n",
    "# Plot variance with attack\n",
    "axs[3, 1].plot(np.arange(0,len(zk_var)), zk_var, color='red')\n",
    "axs[3, 1].set_title('Z_Variance with Attack')\n",
    "axs[3, 1].set_ylabel('Variance')"
   ]
  },
  {
   "cell_type": "code",
   "execution_count": null,
   "id": "cc4210d9",
   "metadata": {},
   "outputs": [],
   "source": [
    "y=[t]*len(Skt)\n",
    "safe=[26]*len(Xkt[0,:-1])\n",
    "\n",
    "#state without attack\n",
    "plt.plot(np.arange(0,k), Xkt[0,:-1], color='blue',label='state value')\n",
    "plt.plot(np.arange(0,len(Xkt[0,:-1])),safe,color='orange',label='safety boundary')\n",
    "plt.title('State under Attack with ref=20')\n",
    "plt.ylabel('State')\n",
    "plt.xlabel('Attack Length')\n",
    "plt.legend()"
   ]
  },
  {
   "cell_type": "code",
   "execution_count": 12,
   "id": "f940c831",
   "metadata": {},
   "outputs": [
    {
     "data": {
      "text/plain": [
       "<matplotlib.legend.Legend at 0x1bb338c2130>"
      ]
     },
     "execution_count": 12,
     "metadata": {},
     "output_type": "execute_result"
    },
    {
     "data": {
      "image/png": "[encoded data removed]",
      "text/plain": [
       "<Figure size 1152x864 with 4 Axes>"
      ]
     },
     "metadata": {
      "needs_background": "light"
     },
     "output_type": "display_data"
    }
   ],
   "source": [
    "y=[t]*len(Sk)\n",
    "safe=[26]*len(Xkt[0,:-1])\n",
    "fig, axs = plt.subplots(2, 2, figsize=(16, 12))\n",
    "\n",
    "#state without attack\n",
    "axs[0, 0].plot(np.arange(0,k), Xk[0,:-1], color='blue',label='state value')\n",
    "axs[0,0].plot(np.arange(0,len(Xk[0,:-1])),safe,color='orange',label='safety boundary')\n",
    "axs[0, 0].set_title('State with Attack considering random values')\n",
    "axs[0, 0].set_ylabel('State')\n",
    "axs[0, 0].set_xlabel('Attack Length')\n",
    "axs[0, 0].legend()\n",
    "#state with attack\n",
    "axs[0, 1].plot(np.arange(0,len(Sk)), Sk, color='blue',label='CUSUM value')\n",
    "axs[0,1].plot(np.arange(0,len(Sk)),y,color='orange',label='threshold')\n",
    "axs[0, 1].set_title('Classical Cusum with Attack')\n",
    "axs[0, 1].set_ylabel('CUSUM')\n",
    "axs[0, 1].set_xlabel('Attack Length')\n",
    "axs[0, 1].legend()"
   ]
  },
  {
   "cell_type": "code",
   "execution_count": null,
   "id": "0bed3037",
   "metadata": {},
   "outputs": [],
   "source": [
    "import pandas as pd\n",
    "Table1=pd.DataFrame(columns=['X1','X2','Xf1','Xf2','i'])\n",
    "Table2=pd.DataFrame(columns=['X1','X2','Xf1','Xf2','i'])"
   ]
  },
  {
   "cell_type": "code",
   "execution_count": null,
   "id": "8485d68b",
   "metadata": {},
   "outputs": [],
   "source": [
    "t=10\n",
    "b=6\n",
    "q1=-b**(1/2)\n",
    "q2=b**(1/2)"
   ]
  },
  {
   "cell_type": "code",
   "execution_count": null,
   "id": "9a635ea1",
   "metadata": {},
   "outputs": [],
   "source": [
    "for j in range(150):\n",
    "    input_len=500\n",
    "    Xk = np.zeros((2, input_len + 1))\n",
    "    Xek = np.zeros((2, input_len + 1))\n",
    "    ek = np.zeros((2, input_len))    \n",
    "    Uk = np.zeros((1,input_len))\n",
    "    Yk = np.zeros((1,input_len))\n",
    "    attack= np.zeros((1,input_len))\n",
    "    rk = np.zeros((1,input_len))\n",
    "    zk = np.zeros((1,input_len))\n",
    "    Sk = np.zeros((input_len))\n",
    "    Xk[:,0] = [2,4]\n",
    "    Xek[:,0] = [2,4]\n",
    "    FFG = calculate_FFG(C, G, Gain, F)\n",
    "    Ref=26*(0.95)**j\n",
    "    for i in range(input_len):\n",
    "        ek[:, i] = Xk[:, i] - Xek[:, i]\n",
    "        Uk[:,i] = -(Gain @ Xek[:, i])+FFG*Ref\n",
    "        Xk[:, i+1] = F @ Xk[:, i] + G @ Uk[:, i] + n2[:, i]\n",
    "        if i==100:\n",
    "            p1=-(t+b-Sk[i-1])**(1/2)\n",
    "            Table1.loc[j,'X1']=Xk[0,i]\n",
    "            Table1.loc[j,'X2']=Xk[1,i]\n",
    "            attack[:,i]=-C@ek[:, i]-n1[:, i]+(covn_r**(1/2))*p1\n",
    "        elif i>100:\n",
    "            attack[:,i]=-C@ek[:, i]-n1[:, i]+(covn_r**(1/2))*q1\n",
    "        Yk[:,i] = C @ Xk[:, i] + n1[:,i] + attack[:,i]\n",
    "        rk[:,i] = Yk[:,i] - C @ Xek[:, i]\n",
    "        Xek[:, i+1] = F @ Xek[:, i] + G @ Uk[:,i] + L @ rk[:,i]\n",
    "        zk[:,i] = rk[:,i].T * (covn_r)**(-1) * rk[:,i]\n",
    "        mzk.append(zk[:,i])\n",
    "        if i>100:\n",
    "            if Xk[0][i]>26 or Xk[0][i]<-26 or Xk[1][i]>31 or Xk[1][i]<-31:\n",
    "                Table1.loc[j,'Xf1']=Xk[0,i]\n",
    "                Table1.loc[j,'Xf2']=Xk[1,i]\n",
    "                Table1.loc[j,'i']=i\n",
    "                break\n",
    "    \n",
    "    if i>0:\n",
    "        Sk[i]=max(Sk[i-1]+zk[:,i]-b,0)\n",
    "    if Sk[i]>t:\n",
    "        print(i)\n",
    "        print(\"attack detected\")\n",
    "        break"
   ]
  },
  {
   "cell_type": "code",
   "execution_count": null,
   "id": "407f022c",
   "metadata": {},
   "outputs": [],
   "source": [
    "for j in range(150):\n",
    "    input_len=k\n",
    "    Xk = np.zeros((2, input_len + 1))\n",
    "    Xek = np.zeros((2, input_len + 1))\n",
    "    ek = np.zeros((2, input_len))    \n",
    "    Uk = np.zeros((1,input_len))\n",
    "    Yk = np.zeros((1,input_len))\n",
    "    attack= np.zeros((1,input_len))\n",
    "    rk = np.zeros((1,input_len))\n",
    "    zk = np.zeros((1,input_len))\n",
    "    Sk = np.zeros((input_len))\n",
    "    Xk[:,0] = [-2,-4]\n",
    "    Xek[:,0] = [-2,-4]\n",
    "    FFG = calculate_FFG(C, G, Gain, F)\n",
    "    Ref=-26*(0.95)**j\n",
    "    for i in range(input_len):\n",
    "        ek[:, i] = Xk[:, i] - Xek[:, i]\n",
    "        Uk[:,i] = -(Gain @ Xek[:, i])+FFG*Ref\n",
    "        Xk[:, i+1] = F @ Xk[:, i] + G @ Uk[:, i] + n2[:, i]\n",
    "        if i==100:\n",
    "            p2=(t+b-Sk[i-1])**(1/2)\n",
    "            Table2.loc[j,'X1']=Xk[0,i]\n",
    "            Table2.loc[j,'X2']=Xk[1,i]\n",
    "            attack[:,i]=-C@ek[:, i]-n1[:, i]+(covn_r**(1/2))*p2\n",
    "        elif i>100:\n",
    "            attack[:,i]=-C@ek[:, i]-n1[:, i]+(covn_r**(1/2))*q2\n",
    "        Yk[:,i] = C @ Xk[:, i] + n1[:,i] + attack[:,i]\n",
    "        rk[:,i] = Yk[:,i] - C @ Xek[:, i]\n",
    "        Xek[:, i+1] = F @ Xek[:, i] + G @ Uk[:,i] + L @ rk[:,i]\n",
    "        zk[:,i] = rk[:,i].T * (covn_r)**(-1) * rk[:,i]\n",
    "        mzk.append(zk[:,i])\n",
    "        if i>100:\n",
    "            if Xk[0][i]>26 or Xk[0][i]<-26 or Xk[1][i]>31 or Xk[1][i]<-31:\n",
    "                Table2.loc[j,'Xf1']=Xk[0,i]\n",
    "                Table2.loc[j,'Xf2']=Xk[1,i]\n",
    "                Table2.loc[j,'i']=i\n",
    "                break\n",
    "    \n",
    "    if i>0:\n",
    "        Sk[i]=max(Sk[i-1]+zk[:,i]-b,0)"
   ]
  },
  {
   "cell_type": "code",
   "execution_count": null,
   "id": "fc6856b0",
   "metadata": {},
   "outputs": [],
   "source": [
    "from sklearn.linear_model import LinearRegression\n",
    "X=np.array(Table1.loc[:,'X1'].values.reshape(-1,1))\n",
    "y=np.array(Table1.loc[:,'i'].values)\n",
    "# Initialize and fit the model\n",
    "model1 = LinearRegression()\n",
    "model1.fit(X, y)\n",
    "\n",
    "# Get the slope (coefficients) and intercept\n",
    "slope1 = model1.coef_[0]\n",
    "intercept1 = model1.intercept_\n",
    "\n",
    "print(\"Slope:\", slope1)\n",
    "print(\"Intercept:\", intercept1)\n"
   ]
  },
  {
   "cell_type": "code",
   "execution_count": null,
   "id": "384b3019",
   "metadata": {},
   "outputs": [],
   "source": [
    "from sklearn.linear_model import LinearRegression\n",
    "X=np.array(Table2.loc[:,'X1'].values.reshape(-1,1))\n",
    "y=np.array(Table2.loc[:,'i'].values)\n",
    "# Initialize and fit the model\n",
    "model2 = LinearRegression()\n",
    "model2.fit(X, y)\n",
    "\n",
    "# Get the slope (coefficients) and intercept\n",
    "slope2 = model2.coef_[0]\n",
    "intercept2 = model2.intercept_\n",
    "\n",
    "print(\"Slope:\", slope2)\n",
    "print(\"Intercept:\", intercept2)\n"
   ]
  },
  {
   "cell_type": "code",
   "execution_count": null,
   "id": "7d6cee6b",
   "metadata": {},
   "outputs": [],
   "source": [
    "Table=pd.concat([Table1,Table2])\n",
    "Table"
   ]
  },
  {
   "cell_type": "code",
   "execution_count": null,
   "id": "bc6d17aa",
   "metadata": {},
   "outputs": [],
   "source": [
    "import matplotlib.pyplot as plt\n",
    "\n",
    "\n",
    "# Generate x values\n",
    "x_values = np.arange(-31,31)\n",
    "\n",
    "# Calculate y values using the linear equation y = mx + b\n",
    "y1_values = slope1 * x_values + intercept1\n",
    "y2_values = slope2* x_values + intercept2\n",
    "data_x= np.array(Table.loc[:,'X1'].values)\n",
    "data_y=np.array(Table.loc[:,'i'].values)\n",
    "# Plot the graph\n",
    "plt.plot(x_values,np.minimum(y1_values,y2_values), label='Linear Fit')\n",
    "plt.scatter(data_x, data_y, color='red',s=10, label='Data Points') \n",
    "plt.xlabel('X1')\n",
    "plt.ylabel('attack_length')\n",
    "plt.title('TTC Controller-Linear Regression Plot')\n",
    "plt.grid(True)\n",
    "plt.legend()\n",
    "plt.show()"
   ]
  },
  {
   "cell_type": "code",
   "execution_count": null,
   "id": "31e52061",
   "metadata": {},
   "outputs": [],
   "source": [
    "import pandas as pd\n",
    "data=pd.DataFrame(columns=['max','min','length'])\n",
    "data.loc[0,:]=[26,24.7,103]\n",
    "data.loc[1,:]=[24.7,23.4,122]\n",
    "data.loc[2,:]=[23.4,22.3,132]\n",
    "data.loc[3,:]=[22.3,21.2,139]\n",
    "data.loc[4,:]=[21.2,20.1,146]\n",
    "data.loc[5,:]=[20.1,19.1,151]\n",
    "data.loc[6,:]=[19.1,18.1,156]\n",
    "data.loc[7,:]=[18.1,17.2,160]\n",
    "data.loc[8,:]=[17.2,15.6,164]\n",
    "data.loc[9,:]=[15.6,14,170]\n",
    "data.loc[10,:]=[14,12.7,176]\n",
    "data.loc[11,:]=[12.7,10.9,180]\n",
    "data.loc[12,:]=[10.9,9.3,186]\n",
    "data.loc[13,:]=[9.3,7.6,191]\n",
    "data.loc[14,:]=[7.6,5.6,196]\n",
    "data.loc[15,:]=[5.6,3.7,201]\n",
    "data.loc[16,:]=[3.7,1.7,206]\n",
    "data.loc[17,:]=[1.7,0,211]\n",
    "data.loc[18,:]=[-24.7,-26,101]\n",
    "data.loc[19,:]=[-23.5,-24.7,120]\n",
    "data.loc[20,:]=[-22.3,-23.5,131]\n",
    "data.loc[21,:]=[-21.2,-22.3,138]\n",
    "data.loc[22,:]=[-20.1,-21.2,145]\n",
    "data.loc[23,:]=[-19.1,-20.1,150]\n",
    "data.loc[24,:]=[-18.1,-19.1,155]\n",
    "data.loc[25,:]=[-17.2,-18.1,159]\n",
    "data.loc[26,:]=[-16.4,-17.2,163]\n",
    "data.loc[27,:]=[-15.6,-16.4,169]\n",
    "data.loc[28,:]=[-14,-15.6,175]\n",
    "data.loc[29,:]=[-12.7,-14,179]\n",
    "data.loc[30,:]=[-10.9,-12.7,185]\n",
    "data.loc[31,:]=[-9.3,-10.9,190]\n",
    "data.loc[32,:]=[-7.6,-9.3,195]\n",
    "data.loc[33,:]=[-5.6,-7.6,200]\n",
    "data.loc[34,:]=[-3.5,-5.6,205]\n",
    "data.loc[35,:]=[-1.5,-3.5,210]\n",
    "data.loc[36,:]=[0,-1.5,214]"
   ]
  },
  {
   "cell_type": "code",
   "execution_count": null,
   "id": "dcbbf931",
   "metadata": {},
   "outputs": [],
   "source": [
    "Table[200:250]"
   ]
  },
  {
   "cell_type": "code",
   "execution_count": null,
   "id": "b0e19711",
   "metadata": {
    "scrolled": true
   },
   "outputs": [],
   "source": [
    "data.to_excel('data_part.xlsx')"
   ]
  },
  {
   "cell_type": "code",
   "execution_count": null,
   "id": "ca581819",
   "metadata": {},
   "outputs": [],
   "source": []
  }
 ],
 "metadata": {
  "kernelspec": {
   "display_name": "Python 3 (ipykernel)",
   "language": "python",
   "name": "python3"
  },
  "language_info": {
   "codemirror_mode": {
    "name": "ipython",
    "version": 3
   },
   "file_extension": ".py",
   "mimetype": "text/x-python",
   "name": "python",
   "nbconvert_exporter": "python",
   "pygments_lexer": "ipython3",
   "version": "3.9.7"
  }
 },
 "nbformat": 4,
 "nbformat_minor": 5
}
